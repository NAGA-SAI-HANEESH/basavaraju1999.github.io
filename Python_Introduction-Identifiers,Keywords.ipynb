{
 "cells": [
  {
   "cell_type": "markdown",
   "metadata": {},
   "source": [
    "# Programming is Fun"
   ]
  },
  {
   "cell_type": "raw",
   "metadata": {},
   "source": [
    ">> step by step instructions are called programs\n",
    ">> pythoon  is high level programming language (Why?)\n",
    ">> dicoverd in 1989\n",
    ">> official realese in feb 20th 1991\n"
   ]
  },
  {
   "cell_type": "markdown",
   "metadata": {},
   "source": [
    "## Variables  or  Identifiers"
   ]
  },
  {
   "cell_type": "raw",
   "metadata": {},
   "source": [
    ">> identifier must start with alphabets either small or caps,underscore \n",
    ">> only special symbol allowed is underscore(_)\n",
    ">> we should not use keywords as identifiers\n",
    ">> case sensitive\n",
    ">> numbers are allowed in variable but variable name should not start with numbers (or) digits"
   ]
  },
  {
   "cell_type": "raw",
   "metadata": {},
   "source": [
    ">> if identifier starts with \n",
    "   _ then its not private ## As Python has no concept of private variables, leading underscores are used to indicate variables                                                                                that must not be accessed from outside the class.\n",
    "   __ then it is strongly private\n",
    "   __variable__ it is magic method\n",
    ">>"
   ]
  },
  {
   "cell_type": "code",
   "execution_count": null,
   "metadata": {},
   "outputs": [],
   "source": [
    "cash=20\n",
    "print(cash)"
   ]
  },
  {
   "cell_type": "code",
   "execution_count": null,
   "metadata": {},
   "outputs": [],
   "source": [
    "ca$h=30\n",
    "print(ca$h)               # _ only symbol allowed in python"
   ]
  },
  {
   "cell_type": "code",
   "execution_count": null,
   "metadata": {},
   "outputs": [],
   "source": [
    "123total=20\n",
    "print(123total)               # should with alphabets or underscore"
   ]
  },
  {
   "cell_type": "code",
   "execution_count": null,
   "metadata": {},
   "outputs": [],
   "source": [
    "total123=496\n",
    "print(total123)"
   ]
  },
  {
   "cell_type": "code",
   "execution_count": null,
   "metadata": {},
   "outputs": [],
   "source": [
    "total=30\n",
    "TOTAL=40              #case sensitive"
   ]
  },
  {
   "cell_type": "code",
   "execution_count": null,
   "metadata": {},
   "outputs": [],
   "source": [
    "print(total)"
   ]
  },
  {
   "cell_type": "code",
   "execution_count": null,
   "metadata": {},
   "outputs": [],
   "source": [
    "print(TOTAL)"
   ]
  },
  {
   "cell_type": "markdown",
   "metadata": {},
   "source": [
    "### Exercise"
   ]
  },
  {
   "cell_type": "code",
   "execution_count": null,
   "metadata": {},
   "outputs": [],
   "source": [
    "496rollno=\"basava\""
   ]
  },
  {
   "cell_type": "code",
   "execution_count": null,
   "metadata": {},
   "outputs": [],
   "source": [
    "rollno496=496"
   ]
  },
  {
   "cell_type": "code",
   "execution_count": null,
   "metadata": {},
   "outputs": [],
   "source": [
    "javashare2=\"basava\""
   ]
  },
  {
   "cell_type": "code",
   "execution_count": null,
   "metadata": {},
   "outputs": [],
   "source": [
    "cas&h=45"
   ]
  },
  {
   "cell_type": "code",
   "execution_count": null,
   "metadata": {},
   "outputs": [],
   "source": [
    "def               #keyword not used as a variable"
   ]
  },
  {
   "cell_type": "code",
   "execution_count": null,
   "metadata": {},
   "outputs": [],
   "source": [
    "if               #keyword not used as a variable"
   ]
  },
  {
   "cell_type": "code",
   "execution_count": null,
   "metadata": {},
   "outputs": [],
   "source": [
    "n = 300\n",
    "m = n    # here one object created 300 and has two references"
   ]
  },
  {
   "cell_type": "code",
   "execution_count": null,
   "metadata": {},
   "outputs": [],
   "source": [
    "id(n)"
   ]
  },
  {
   "cell_type": "code",
   "execution_count": null,
   "metadata": {},
   "outputs": [],
   "source": [
    "id(m)"
   ]
  },
  {
   "cell_type": "code",
   "execution_count": null,
   "metadata": {},
   "outputs": [],
   "source": [
    "#If two variables have the same id(), you know they reference the same object:"
   ]
  },
  {
   "cell_type": "code",
   "execution_count": null,
   "metadata": {},
   "outputs": [],
   "source": [
    "_abc_abc_=\"vvit\""
   ]
  },
  {
   "cell_type": "markdown",
   "metadata": {},
   "source": [
    "### Key points"
   ]
  },
  {
   "cell_type": "raw",
   "metadata": {},
   "source": [
    "Variables need not be declared or defined in advance in Python. To create a variable, you just assign it a value."
   ]
  },
  {
   "cell_type": "raw",
   "metadata": {},
   "source": [
    "variables are dynamically typed in python that means based on the type of value automatically PVM classifies variable type"
   ]
  },
  {
   "cell_type": "raw",
   "metadata": {},
   "source": [
    "If two variables have the same id(), they reference the same object:"
   ]
  },
  {
   "cell_type": "raw",
   "metadata": {},
   "source": [
    " Identifiers can be of any length."
   ]
  },
  {
   "cell_type": "raw",
   "metadata": {},
   "source": [
    "Spaces are not allowed in variable names."
   ]
  },
  {
   "cell_type": "markdown",
   "metadata": {},
   "source": [
    "## Reserved words or Keywords"
   ]
  },
  {
   "cell_type": "raw",
   "metadata": {},
   "source": [
    ">> In python some words represent some functionality those are called reserved words (or) keywords\n",
    ">> There are 33 resrved words in python\n",
    ">> Except three all are lowercase alphabets #True,False,None"
   ]
  },
  {
   "cell_type": "code",
   "execution_count": null,
   "metadata": {},
   "outputs": [],
   "source": [
    "import keyword \n",
    "print(keyword.kwlist)"
   ]
  },
  {
   "cell_type": "code",
   "execution_count": null,
   "metadata": {},
   "outputs": [],
   "source": []
  }
 ],
 "metadata": {
  "kernelspec": {
   "display_name": "Python 3",
   "language": "python",
   "name": "python3"
  },
  "language_info": {
   "codemirror_mode": {
    "name": "ipython",
    "version": 3
   },
   "file_extension": ".py",
   "mimetype": "text/x-python",
   "name": "python",
   "nbconvert_exporter": "python",
   "pygments_lexer": "ipython3",
   "version": "3.7.6"
  }
 },
 "nbformat": 4,
 "nbformat_minor": 4
}
